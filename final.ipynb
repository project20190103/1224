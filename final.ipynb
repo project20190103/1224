{
  "nbformat": 4,
  "nbformat_minor": 0,
  "metadata": {
    "colab": {
      "name": "final.ipynb",
      "provenance": [],
      "collapsed_sections": [],
      "authorship_tag": "ABX9TyMOjwoQAXHUEIHLmSdrxYRg",
      "include_colab_link": true
    },
    "kernelspec": {
      "name": "python3",
      "display_name": "Python 3"
    }
  },
  "cells": [
    {
      "cell_type": "markdown",
      "metadata": {
        "id": "view-in-github",
        "colab_type": "text"
      },
      "source": [
        "<a href=\"https://colab.research.google.com/github/project20190103/1224/blob/master/final.ipynb\" target=\"_parent\"><img src=\"https://colab.research.google.com/assets/colab-badge.svg\" alt=\"Open In Colab\"/></a>"
      ]
    },
    {
      "cell_type": "code",
      "metadata": {
        "id": "LGNhNROBstiz",
        "colab_type": "code",
        "colab": {}
      },
      "source": [
        "import numpy as np\n",
        "import matplotlib.pyplot as pl\n",
        "import pandas as pd\n",
        "import scipy.signal as sg\n",
        "import random\n",
        "import math"
      ],
      "execution_count": null,
      "outputs": []
    },
    {
      "cell_type": "code",
      "metadata": {
        "id": "5JwaIePP4ayt",
        "colab_type": "code",
        "colab": {}
      },
      "source": [
        "pi = np.pi\n",
        "exp = np.exp\n",
        "def dft(x):\n",
        "    N = len(x)\n",
        "    ks = range(N)\n",
        "    args = -2j * pi * np.outer(ks, ks) / N\n",
        "    W = exp(args)\n",
        "    X = W.dot(x)\n",
        "    return X"
      ],
      "execution_count": null,
      "outputs": []
    },
    {
      "cell_type": "code",
      "metadata": {
        "id": "yGjzWqiC4cQV",
        "colab_type": "code",
        "colab": {
          "base_uri": "https://localhost:8080/",
          "height": 85
        },
        "outputId": "dc31bab5-c1bb-491a-ffee-6433d68b7a5e"
      },
      "source": [
        "x3 = [1,-1,1,-1,1,-1,1,-1]\n",
        "dft(x3)"
      ],
      "execution_count": null,
      "outputs": [
        {
          "output_type": "execute_result",
          "data": {
            "text/plain": [
              "array([ 0.00000000e+00+0.00000000e+00j,  3.83475851e-17-4.44089210e-16j,\n",
              "        2.44929360e-16-2.44929360e-16j,  8.84157967e-16-1.55431223e-15j,\n",
              "        8.00000000e+00+3.42901104e-15j, -2.69484194e-15+0.00000000e+00j,\n",
              "        2.81792560e-15-7.34788079e-16j, -5.26443671e-15-2.77555756e-15j])"
            ]
          },
          "metadata": {
            "tags": []
          },
          "execution_count": 34
        }
      ]
    },
    {
      "cell_type": "markdown",
      "metadata": {
        "id": "faikqHiN2zZf",
        "colab_type": "text"
      },
      "source": [
        "##1\n"
      ]
    },
    {
      "cell_type": "code",
      "metadata": {
        "id": "CwVqOlQIuGom",
        "colab_type": "code",
        "colab": {}
      },
      "source": [
        "def iexp(n):\n",
        "    return complex(math.cos(n), math.sin(n))\n",
        "    \n",
        "def dft(xs):\n",
        "    \"naive dft\"\n",
        "    n = len(xs)\n",
        "    return [sum((xs[k] * iexp(-2 * math.pi * i * k / n) for k in range(n)))\n",
        "            for i in range(n)]\n",
        "\n",
        "def dftinv(xs):\n",
        "    \"naive dft\"\n",
        "    n = len(xs)\n",
        "    return [sum((xs[k] * iexp(2 * math.pi * i * k / n) for k in range(n))) / n\n",
        "            for i in range(n)]"
      ],
      "execution_count": null,
      "outputs": []
    },
    {
      "cell_type": "code",
      "metadata": {
        "id": "8TUB7WiI23xV",
        "colab_type": "code",
        "colab": {
          "base_uri": "https://localhost:8080/",
          "height": 34
        },
        "outputId": "9ddce24d-8b06-4759-8f5d-8cacab7ffb0c"
      },
      "source": [
        "x1 = [1,0,0,0,0,0,0,0]\n",
        "dft(x1)\n"
      ],
      "execution_count": null,
      "outputs": [
        {
          "output_type": "execute_result",
          "data": {
            "text/plain": [
              "array([1.+0.j, 1.+0.j, 1.+0.j, 1.+0.j, 1.+0.j, 1.+0.j, 1.+0.j, 1.+0.j])"
            ]
          },
          "metadata": {
            "tags": []
          },
          "execution_count": 45
        }
      ]
    },
    {
      "cell_type": "markdown",
      "metadata": {
        "id": "UjA8bv224xWV",
        "colab_type": "text"
      },
      "source": [
        "(b)"
      ]
    },
    {
      "cell_type": "code",
      "metadata": {
        "id": "qvYyBMgy23r9",
        "colab_type": "code",
        "colab": {
          "base_uri": "https://localhost:8080/",
          "height": 87
        },
        "outputId": "d08ac9df-24b8-4de4-b0eb-0de80726ab14"
      },
      "source": [
        "x2 = [1,1,1,1,1,1,1,1]\n",
        "dft(x2)"
      ],
      "execution_count": null,
      "outputs": [
        {
          "output_type": "execute_result",
          "data": {
            "text/plain": [
              "array([ 8.00000000e+00+0.00000000e+00j, -4.05741625e-16+0.00000000e+00j,\n",
              "       -2.44929360e-16-2.44929360e-16j, -2.26065058e-16+8.88178420e-16j,\n",
              "        0.00000000e+00-4.89858720e-16j, -2.25075273e-15-1.33226763e-15j,\n",
              "       -2.81792560e-15-7.34788079e-16j,  3.39530289e-15+9.99200722e-16j])"
            ]
          },
          "metadata": {
            "tags": []
          },
          "execution_count": 33
        }
      ]
    },
    {
      "cell_type": "markdown",
      "metadata": {
        "id": "tOXAa4wJ4zJd",
        "colab_type": "text"
      },
      "source": [
        "(c)"
      ]
    },
    {
      "cell_type": "code",
      "metadata": {
        "id": "UqDqQCbY4y5N",
        "colab_type": "code",
        "colab": {
          "base_uri": "https://localhost:8080/",
          "height": 87
        },
        "outputId": "27a66e1f-83f0-44dd-b2f4-d3565d1078f2"
      },
      "source": [
        "x3 = [1,-1,1,-1,1,-1,1,-1]\n",
        "dft(x3)"
      ],
      "execution_count": null,
      "outputs": [
        {
          "output_type": "execute_result",
          "data": {
            "text/plain": [
              "array([ 0.00000000e+00+0.00000000e+00j,  3.83475851e-17-4.44089210e-16j,\n",
              "        2.44929360e-16-2.44929360e-16j,  8.84157967e-16-1.55431223e-15j,\n",
              "        8.00000000e+00+3.42901104e-15j, -2.69484194e-15+0.00000000e+00j,\n",
              "        2.81792560e-15-7.34788079e-16j, -5.26443671e-15-2.77555756e-15j])"
            ]
          },
          "metadata": {
            "tags": []
          },
          "execution_count": 32
        }
      ]
    },
    {
      "cell_type": "markdown",
      "metadata": {
        "id": "1ZHTSOHS6rw9",
        "colab_type": "text"
      },
      "source": [
        "(d)"
      ]
    },
    {
      "cell_type": "code",
      "metadata": {
        "id": "jb5LDImp6uPR",
        "colab_type": "code",
        "colab": {
          "base_uri": "https://localhost:8080/",
          "height": 70
        },
        "outputId": "a46c9681-9104-498d-b376-0451df399d42"
      },
      "source": [
        "a = np.array(x1)\n",
        "b = np.array(x2)\n",
        "c = np.array(x3)\n",
        "x4 = a+b+c\n",
        "dft(x4)"
      ],
      "execution_count": null,
      "outputs": [
        {
          "output_type": "execute_result",
          "data": {
            "text/plain": [
              "array([9.+0.00000000e+00j, 1.-4.44089210e-16j, 1.-4.89858720e-16j,\n",
              "       1.-6.66133815e-16j, 9.+2.93915232e-15j, 1.-1.33226763e-15j,\n",
              "       1.-1.46957616e-15j, 1.-1.77635684e-15j])"
            ]
          },
          "metadata": {
            "tags": []
          },
          "execution_count": 42
        }
      ]
    },
    {
      "cell_type": "markdown",
      "metadata": {
        "id": "P-rV5iSY87v9",
        "colab_type": "text"
      },
      "source": [
        "(f)"
      ]
    },
    {
      "cell_type": "code",
      "metadata": {
        "id": "cY6HRS4j8KDV",
        "colab_type": "code",
        "colab": {
          "base_uri": "https://localhost:8080/",
          "height": 158
        },
        "outputId": "b3c8f068-ac2c-44b5-ab5a-b5bde6318c1c"
      },
      "source": [
        "X5 = [1,1,0,0,0,0,1,1]\n",
        "X6 = [1,1,0,0,0,0,0,1]\n",
        "dftinv(X5)"
      ],
      "execution_count": null,
      "outputs": [
        {
          "output_type": "execute_result",
          "data": {
            "text/plain": [
              "[(0.5+0j),\n",
              " (0.3017766952966368-0.12500000000000003j),\n",
              " (-5.35782974626967e-17+5.551115123125783e-17j),\n",
              " (-0.05177669529663678+0.12499999999999997j),\n",
              " 3.0616169978683836e-17j,\n",
              " (-0.05177669529663707-0.12499999999999982j),\n",
              " (-8.906528815257012e-17+1.3877787807814457e-16j),\n",
              " (0.3017766952966372+0.12499999999999961j)]"
            ]
          },
          "metadata": {
            "tags": []
          },
          "execution_count": 59
        }
      ]
    },
    {
      "cell_type": "code",
      "metadata": {
        "id": "_jNTmuU48eVU",
        "colab_type": "code",
        "colab": {
          "base_uri": "https://localhost:8080/",
          "height": 158
        },
        "outputId": "a0d73884-cfc3-438d-c3f8-e730e0435ba9"
      },
      "source": [
        "dftinv(X6)"
      ],
      "execution_count": null,
      "outputs": [
        {
          "output_type": "execute_result",
          "data": {
            "text/plain": [
              "[(0.375+0j),\n",
              " (0.30177669529663687-2.7755575615628914e-17j),\n",
              " (0.12499999999999994+0j),\n",
              " (-0.05177669529663685-1.3877787807814457e-17j),\n",
              " (-0.125+1.2246467991473532e-16j),\n",
              " (-0.05177669529663673+1.8041124150158794e-16j),\n",
              " (0.12499999999999992+0j),\n",
              " (0.30177669529663725-3.885780586188048e-16j)]"
            ]
          },
          "metadata": {
            "tags": []
          },
          "execution_count": 58
        }
      ]
    },
    {
      "cell_type": "code",
      "metadata": {
        "id": "qkrskb379eQU",
        "colab_type": "code",
        "colab": {}
      },
      "source": [
        "(g)"
      ],
      "execution_count": null,
      "outputs": []
    },
    {
      "cell_type": "code",
      "metadata": {
        "id": "iO-XUwON9hyU",
        "colab_type": "code",
        "colab": {
          "base_uri": "https://localhost:8080/",
          "height": 52
        },
        "outputId": "3440f0a4-586f-448d-e8f8-1fecb05d42ed"
      },
      "source": [
        "x7 = [1,1,0,0]\n",
        "dft(x7)\n",
        "\n"
      ],
      "execution_count": null,
      "outputs": [
        {
          "output_type": "execute_result",
          "data": {
            "text/plain": [
              "array([2.+0.0000000e+00j, 1.-1.0000000e+00j, 0.-1.2246468e-16j,\n",
              "       1.+1.0000000e+00j])"
            ]
          },
          "metadata": {
            "tags": []
          },
          "execution_count": 56
        }
      ]
    },
    {
      "cell_type": "code",
      "metadata": {
        "id": "dICPEWrG9-Hk",
        "colab_type": "code",
        "colab": {
          "base_uri": "https://localhost:8080/",
          "height": 87
        },
        "outputId": "7b827643-7180-4042-fd89-92fdf816a3ba"
      },
      "source": [
        "x8 = [1,1,0,0,0,0,0,0]\n",
        "dft(x8)"
      ],
      "execution_count": null,
      "outputs": [
        {
          "output_type": "execute_result",
          "data": {
            "text/plain": [
              "array([2.        +0.00000000e+00j, 1.70710678-7.07106781e-01j,\n",
              "       1.        -1.00000000e+00j, 0.29289322-7.07106781e-01j,\n",
              "       0.        -1.22464680e-16j, 0.29289322+7.07106781e-01j,\n",
              "       1.        +1.00000000e+00j, 1.70710678+7.07106781e-01j])"
            ]
          },
          "metadata": {
            "tags": []
          },
          "execution_count": 57
        }
      ]
    },
    {
      "cell_type": "markdown",
      "metadata": {
        "id": "oDvKReYKuHDm",
        "colab_type": "text"
      },
      "source": [
        "##2\n"
      ]
    },
    {
      "cell_type": "markdown",
      "metadata": {
        "id": "AOSI0yLJucn2",
        "colab_type": "text"
      },
      "source": [
        "(a)"
      ]
    },
    {
      "cell_type": "code",
      "metadata": {
        "id": "ISeTVHGjweiA",
        "colab_type": "code",
        "colab": {
          "base_uri": "https://localhost:8080/",
          "height": 52
        },
        "outputId": "2c316f49-f86e-4dc0-f286-4760a80cdb90"
      },
      "source": [
        "f = np.random.randint(1,100,3)\n",
        "g = np.random.randint(1,100,3)\n",
        "print(f)\n",
        "print(g)"
      ],
      "execution_count": null,
      "outputs": [
        {
          "output_type": "stream",
          "text": [
            "[44 22 63]\n",
            "[91 74 60]\n"
          ],
          "name": "stdout"
        }
      ]
    },
    {
      "cell_type": "code",
      "metadata": {
        "id": "eY6vBiROuX02",
        "colab_type": "code",
        "colab": {
          "base_uri": "https://localhost:8080/",
          "height": 70
        },
        "outputId": "d6d92bf6-79a5-4a6b-9c5a-4231912eb2c6"
      },
      "source": [
        "np.convolve(f,g,mode='valid'),\\\n",
        "np.convolve(f,g,mode='same'),\\\n",
        "np.convolve(f,g,mode='full')"
      ],
      "execution_count": null,
      "outputs": [
        {
          "output_type": "execute_result",
          "data": {
            "text/plain": [
              "(array([10001]),\n",
              " array([ 5258, 10001,  5982]),\n",
              " array([ 4004,  5258, 10001,  5982,  3780]))"
            ]
          },
          "metadata": {
            "tags": []
          },
          "execution_count": 20
        }
      ]
    },
    {
      "cell_type": "markdown",
      "metadata": {
        "id": "8jSSys2wuTwO",
        "colab_type": "text"
      },
      "source": [
        "(b)"
      ]
    },
    {
      "cell_type": "code",
      "metadata": {
        "id": "yBGxUs1VtDYA",
        "colab_type": "code",
        "colab": {
          "base_uri": "https://localhost:8080/",
          "height": 34
        },
        "outputId": "afd52c57-577a-45ff-e9ec-b23623e2d2f0"
      },
      "source": [
        "x= np.array([1,1,1,1])\n",
        "\n",
        "w= np.array([1,1])\n",
        "\n",
        "np.convolve(x,w,mode='valid'),\\\n",
        "np.convolve(x,w,mode='same'),\\\n",
        "np.convolve(x,w,mode='full')"
      ],
      "execution_count": null,
      "outputs": [
        {
          "output_type": "execute_result",
          "data": {
            "text/plain": [
              "(array([2, 2, 2]), array([1, 2, 2, 2]), array([1, 2, 2, 2, 1]))"
            ]
          },
          "metadata": {
            "tags": []
          },
          "execution_count": 4
        }
      ]
    },
    {
      "cell_type": "markdown",
      "metadata": {
        "id": "lKdKXDaXBb8P",
        "colab_type": "text"
      },
      "source": [
        "##3\n"
      ]
    },
    {
      "cell_type": "markdown",
      "metadata": {
        "id": "bNakCM2lBdHN",
        "colab_type": "text"
      },
      "source": [
        "(a)\n",
        "\n",
        "摺積定理指出，函數摺積的傅立葉轉換是函數傅立葉轉換的乘積。即一個域中的摺積對應於另一個域中的乘積，例如時域中的摺積對應於頻域中的乘積。\n",
        "\n"
      ]
    }
  ]
}